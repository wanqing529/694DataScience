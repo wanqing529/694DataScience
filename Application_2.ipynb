{
 "cells": [
  {
   "cell_type": "code",
   "execution_count": 54,
   "metadata": {},
   "outputs": [],
   "source": [
    "## Zhengwei Kang's code\n",
    "## \"tweet data\" storage in mongoDB\n",
    "## connect python with mongoDB\n",
    "import pymongo\n",
    "myclient = pymongo.MongoClient(\"mongodb://localhost:27017/\")\n",
    "mydb = myclient[\"datastorage1\"]\n",
    "mycol = mydb[\"bodyinfo\"]"
   ]
  },
  {
   "cell_type": "code",
   "execution_count": 55,
   "metadata": {},
   "outputs": [
    {
     "data": {
      "text/plain": [
       "{'created_at': 'Sun Apr 26 05:41:16 +0000 2020',\n",
       " 'id': 1254284388050690048,\n",
       " 'id_str': '1254284388050690048',\n",
       " 'text': 'RT @nfarahainm: Singapore Government : Allow Small Home-Based F&amp;B Businesses to Operate with Compliance to Circuit Breaker Rules - Sign the…',\n",
       " 'source': '<a href=\"http://twitter.com/download/iphone\" rel=\"nofollow\">Twitter for iPhone</a>',\n",
       " 'truncated': False,\n",
       " 'in_reply_to_status_id': None,\n",
       " 'in_reply_to_status_id_str': None,\n",
       " 'in_reply_to_user_id': None,\n",
       " 'in_reply_to_user_id_str': None,\n",
       " 'in_reply_to_screen_name': None,\n",
       " 'user': {'id': 787147467896651776,\n",
       "  'id_str': '787147467896651776',\n",
       "  'name': '🦋',\n",
       "  'screen_name': 'elyteyn',\n",
       "  'location': 'Singapore',\n",
       "  'url': None,\n",
       "  'description': 'may our sustenance be as wide as the sea.',\n",
       "  'translator_type': 'none',\n",
       "  'protected': False,\n",
       "  'verified': False,\n",
       "  'followers_count': 48,\n",
       "  'friends_count': 52,\n",
       "  'listed_count': 1,\n",
       "  'favourites_count': 15533,\n",
       "  'statuses_count': 20220,\n",
       "  'created_at': 'Sat Oct 15 04:25:55 +0000 2016',\n",
       "  'utc_offset': None,\n",
       "  'time_zone': None,\n",
       "  'geo_enabled': True,\n",
       "  'lang': None,\n",
       "  'contributors_enabled': False,\n",
       "  'is_translator': False,\n",
       "  'profile_background_color': '000000',\n",
       "  'profile_background_image_url': 'http://abs.twimg.com/images/themes/theme1/bg.png',\n",
       "  'profile_background_image_url_https': 'https://abs.twimg.com/images/themes/theme1/bg.png',\n",
       "  'profile_background_tile': False,\n",
       "  'profile_link_color': '000000',\n",
       "  'profile_sidebar_border_color': '000000',\n",
       "  'profile_sidebar_fill_color': '000000',\n",
       "  'profile_text_color': '000000',\n",
       "  'profile_use_background_image': False,\n",
       "  'profile_image_url': 'http://pbs.twimg.com/profile_images/1252257615058329600/0cGEn3qK_normal.jpg',\n",
       "  'profile_image_url_https': 'https://pbs.twimg.com/profile_images/1252257615058329600/0cGEn3qK_normal.jpg',\n",
       "  'profile_banner_url': 'https://pbs.twimg.com/profile_banners/787147467896651776/1587396456',\n",
       "  'default_profile': False,\n",
       "  'default_profile_image': False,\n",
       "  'following': None,\n",
       "  'follow_request_sent': None,\n",
       "  'notifications': None},\n",
       " 'geo': None,\n",
       " 'coordinates': None,\n",
       " 'place': None,\n",
       " 'contributors': None,\n",
       " 'retweeted_status': {'created_at': 'Sun Apr 26 04:57:05 +0000 2020',\n",
       "  'id': 1254273268900483074,\n",
       "  'id_str': '1254273268900483074',\n",
       "  'text': 'Singapore Government : Allow Small Home-Based F&amp;B Businesses to Operate with Compliance to Circuit Breaker Rules -… https://t.co/Mt8FEKRPir',\n",
       "  'source': '<a href=\"http://twitter.com/download/iphone\" rel=\"nofollow\">Twitter for iPhone</a>',\n",
       "  'truncated': True,\n",
       "  'in_reply_to_status_id': None,\n",
       "  'in_reply_to_status_id_str': None,\n",
       "  'in_reply_to_user_id': None,\n",
       "  'in_reply_to_user_id_str': None,\n",
       "  'in_reply_to_screen_name': None,\n",
       "  'user': {'id': 90815869,\n",
       "   'id_str': '90815869',\n",
       "   'name': 'Farah Ain',\n",
       "   'screen_name': 'nfarahainm',\n",
       "   'location': None,\n",
       "   'url': None,\n",
       "   'description': 'Syukur Alhamdullilah for everything 💞 I like to venture and explore with my loved ones anytime anywhere 🇸🇬 🌍',\n",
       "   'translator_type': 'none',\n",
       "   'protected': False,\n",
       "   'verified': False,\n",
       "   'followers_count': 694,\n",
       "   'friends_count': 552,\n",
       "   'listed_count': 4,\n",
       "   'favourites_count': 3297,\n",
       "   'statuses_count': 35705,\n",
       "   'created_at': 'Wed Nov 18 06:28:16 +0000 2009',\n",
       "   'utc_offset': None,\n",
       "   'time_zone': None,\n",
       "   'geo_enabled': True,\n",
       "   'lang': None,\n",
       "   'contributors_enabled': False,\n",
       "   'is_translator': False,\n",
       "   'profile_background_color': '000000',\n",
       "   'profile_background_image_url': 'http://abs.twimg.com/images/themes/theme1/bg.png',\n",
       "   'profile_background_image_url_https': 'https://abs.twimg.com/images/themes/theme1/bg.png',\n",
       "   'profile_background_tile': True,\n",
       "   'profile_link_color': '3B94D9',\n",
       "   'profile_sidebar_border_color': 'FFFFFF',\n",
       "   'profile_sidebar_fill_color': 'F0EEEB',\n",
       "   'profile_text_color': '000000',\n",
       "   'profile_use_background_image': True,\n",
       "   'profile_image_url': 'http://pbs.twimg.com/profile_images/1254095510794760197/2exaSlOm_normal.jpg',\n",
       "   'profile_image_url_https': 'https://pbs.twimg.com/profile_images/1254095510794760197/2exaSlOm_normal.jpg',\n",
       "   'profile_banner_url': 'https://pbs.twimg.com/profile_banners/90815869/1563730527',\n",
       "   'default_profile': False,\n",
       "   'default_profile_image': False,\n",
       "   'following': None,\n",
       "   'follow_request_sent': None,\n",
       "   'notifications': None},\n",
       "  'geo': None,\n",
       "  'coordinates': None,\n",
       "  'place': None,\n",
       "  'contributors': None,\n",
       "  'is_quote_status': False,\n",
       "  'extended_tweet': {'full_text': 'Singapore Government : Allow Small Home-Based F&amp;B Businesses to Operate with Compliance to Circuit Breaker Rules - Sign the Petition! https://t.co/IJvWg8uxA3',\n",
       "   'display_text_range': [0, 161],\n",
       "   'entities': {'hashtags': [],\n",
       "    'urls': [{'url': 'https://t.co/IJvWg8uxA3',\n",
       "      'expanded_url': 'http://chng.it/rJDrHFFb',\n",
       "      'display_url': 'chng.it/rJDrHFFb',\n",
       "      'indices': [138, 161]}],\n",
       "    'user_mentions': [],\n",
       "    'symbols': []}},\n",
       "  'quote_count': 0,\n",
       "  'reply_count': 0,\n",
       "  'retweet_count': 1,\n",
       "  'favorite_count': 1,\n",
       "  'entities': {'hashtags': [],\n",
       "   'urls': [{'url': 'https://t.co/Mt8FEKRPir',\n",
       "     'expanded_url': 'https://twitter.com/i/web/status/1254273268900483074',\n",
       "     'display_url': 'twitter.com/i/web/status/1…',\n",
       "     'indices': [120, 143]}],\n",
       "   'user_mentions': [],\n",
       "   'symbols': []},\n",
       "  'favorited': False,\n",
       "  'retweeted': False,\n",
       "  'possibly_sensitive': False,\n",
       "  'filter_level': 'low',\n",
       "  'lang': 'en'},\n",
       " 'is_quote_status': False,\n",
       " 'quote_count': 0,\n",
       " 'reply_count': 0,\n",
       " 'retweet_count': 0,\n",
       " 'favorite_count': 0,\n",
       " 'entities': {'hashtags': [],\n",
       "  'urls': [],\n",
       "  'user_mentions': [{'screen_name': 'nfarahainm',\n",
       "    'name': 'Farah Ain',\n",
       "    'id': 90815869,\n",
       "    'id_str': '90815869',\n",
       "    'indices': [3, 14]}],\n",
       "  'symbols': []},\n",
       " 'favorited': False,\n",
       " 'retweeted': False,\n",
       " 'filter_level': 'low',\n",
       " 'lang': 'en',\n",
       " 'timestamp_ms': '1587879676245'}"
      ]
     },
     "execution_count": 55,
     "metadata": {},
     "output_type": "execute_result"
    }
   ],
   "source": [
    "## open the data files and import data\n",
    "import json\n",
    "data = []\n",
    "with open(\"C:/Users/lenovo/Desktop/test-out-Circuit Breaker\", \"r\") as file:\n",
    "    for line in file:\n",
    "        try:\n",
    "            data.append(json.loads(line))\n",
    "        except:\n",
    "            continue\n",
    "\n",
    "with open(\"C:/Users/lenovo/Desktop/test-out-NFL\", \"r\") as file1:\n",
    "    for line in file1:\n",
    "        try:\n",
    "            data.append(json.loads(line))\n",
    "        except:\n",
    "            continue\n",
    "with open(\"C:/Users/lenovo/Desktop/test-out-new\", \"r\") as file:\n",
    "    for line in file:\n",
    "        try:\n",
    "            data.append(json.loads(line))\n",
    "        except:\n",
    "            continue\n",
    "\n",
    "with open(\"C:/Users/lenovo/Desktop/test-out-newnew\", \"r\") as file:\n",
    "    for line in file:\n",
    "        try:\n",
    "            data.append(json.loads(line))\n",
    "        except:\n",
    "            continue\n",
    "data[0]       "
   ]
  },
  {
   "cell_type": "code",
   "execution_count": 56,
   "metadata": {
    "scrolled": true
   },
   "outputs": [
    {
     "data": {
      "text/plain": [
       "{'created_at': 'Sun Apr 26 05:41:16 +0000 2020',\n",
       " 'id': 1254284388050690048,\n",
       " 'id_str': '1254284388050690048',\n",
       " 'text': 'RT @nfarahainm: Singapore Government : Allow Small Home-Based F&amp;B Businesses to Operate with Compliance to Circuit Breaker Rules - Sign the…',\n",
       " 'source': '<a href=\"http://twitter.com/download/iphone\" rel=\"nofollow\">Twitter for iPhone</a>',\n",
       " 'truncated': False,\n",
       " 'in_reply_to_status_id': None,\n",
       " 'in_reply_to_status_id_str': None,\n",
       " 'in_reply_to_user_id': None,\n",
       " 'in_reply_to_user_id_str': None,\n",
       " 'in_reply_to_screen_name': None,\n",
       " 'geo': None,\n",
       " 'coordinates': None,\n",
       " 'place': None,\n",
       " 'contributors': None,\n",
       " 'is_quote_status': False,\n",
       " 'quote_count': 0,\n",
       " 'reply_count': 0,\n",
       " 'retweet_count': 0,\n",
       " 'favorite_count': 0,\n",
       " 'entities': {'hashtags': [],\n",
       "  'urls': [],\n",
       "  'user_mentions': [{'screen_name': 'nfarahainm',\n",
       "    'name': 'Farah Ain',\n",
       "    'id': 90815869,\n",
       "    'id_str': '90815869',\n",
       "    'indices': [3, 14]}],\n",
       "  'symbols': []},\n",
       " 'favorited': False,\n",
       " 'retweeted': False,\n",
       " 'filter_level': 'low',\n",
       " 'lang': 'en',\n",
       " 'timestamp_ms': '1587879676245',\n",
       " 'user_id': 787147467896651776}"
      ]
     },
     "execution_count": 56,
     "metadata": {},
     "output_type": "execute_result"
    }
   ],
   "source": [
    "## extract \"user_id\" and remove  user part and retweet part\n",
    "for item in data:\n",
    "    a=item[\"user\"][\"id\"]\n",
    "    dic={\"user_id\":a}\n",
    "    item.update(dic)\n",
    "    del item[\"user\"]\n",
    "    try:\n",
    "        del item[\"retweeted_status\"]\n",
    "    except:\n",
    "        pass\n",
    "data[0]"
   ]
  },
  {
   "cell_type": "code",
   "execution_count": 57,
   "metadata": {
    "scrolled": true
   },
   "outputs": [
    {
     "data": {
      "text/plain": [
       "'id_hashed'"
      ]
     },
     "execution_count": 57,
     "metadata": {},
     "output_type": "execute_result"
    }
   ],
   "source": [
    "## insert data into mongoDB\n",
    "for i in range(len(data)):\n",
    "    mycol.insert_one(data[i])\n",
    "mydb.bodyinfo.create_index([(\"id\",\"hashed\")])"
   ]
  },
  {
   "cell_type": "code",
   "execution_count": 58,
   "metadata": {
    "scrolled": true
   },
   "outputs": [],
   "source": [
    "## application2 \n",
    "## define the function to collect hashtags , count the number of each hashtag appearance,sort the order and show top 10 hashtags\n",
    "from collections import Counter\n",
    "def hourtophash(x):\n",
    "    mycol1= mydb[\"bodyinfo\"]\n",
    "    data1=[]\n",
    "    for a in mycol1.find({\"created_at\":{\"$regex\": x}},{\"entities\":1}):\n",
    "        b=a[\"entities\"][\"hashtags\"]\n",
    "        for item in b:\n",
    "            c=item[\"text\"]\n",
    "            data1.append(c)\n",
    "    result=Counter(data1)\n",
    "    d = sorted(result.items(), key=lambda x: x[1], reverse=True)\n",
    "    print(d[0:10])\n"
   ]
  },
  {
   "cell_type": "code",
   "execution_count": 60,
   "metadata": {},
   "outputs": [
    {
     "name": "stdout",
     "output_type": "stream",
     "text": [
      "[('NFL', 55), ('nfl', 10), ('Steelers', 7), ('NFLTwitter', 6), ('JuJuSmithSchuster', 6), ('NBA', 5), ('Dolphins', 5), ('Redskins', 4), ('NFLDraft', 3), ('Miami', 3)]\n",
      "0.0402100999999675\n"
     ]
    }
   ],
   "source": [
    "## calculate how long the application is running\n",
    "start= time.perf_counter()\n",
    "## executive function\n",
    "hourtophash(\"Apr 29 05\")\n",
    "end= time.perf_counter()\n",
    "print(end-start)"
   ]
  },
  {
   "cell_type": "code",
   "execution_count": 61,
   "metadata": {},
   "outputs": [
    {
     "name": "stdout",
     "output_type": "stream",
     "text": [
      "[('NFL', 78), ('NBA', 19), ('nfl', 10), ('Chiefs', 9), ('Amash', 9), ('TwitterDMs', 9), ('Facebook', 9), ('Fiverr', 9), ('people', 9), ('Amazon', 9)]\n"
     ]
    }
   ],
   "source": [
    "hourtophash(\"Apr 29 06\")"
   ]
  },
  {
   "cell_type": "code",
   "execution_count": 64,
   "metadata": {},
   "outputs": [
    {
     "name": "stdout",
     "output_type": "stream",
     "text": [
      "[('NFL', 52), ('nfl', 17), ('FlashClaimSale', 14), ('topps', 11), ('NBA', 8), ('MLB', 7), ('Madden20', 6), ('COVID19', 6), ('Bengals', 6), ('NFLDraftNews', 5)]\n"
     ]
    }
   ],
   "source": [
    "hourtophash(\"May 02 05\")"
   ]
  },
  {
   "cell_type": "code",
   "execution_count": 66,
   "metadata": {},
   "outputs": [
    {
     "name": "stdout",
     "output_type": "stream",
     "text": [
      "[('NFL', 53), ('FantasyFootball', 6), ('nfl', 5), ('Bengals', 4), ('AFCSouth', 4), ('NFLDraft', 4), ('eBay', 4), ('Shopping', 4), ('Vikings', 3), ('NFLDraftNews', 3)]\n"
     ]
    }
   ],
   "source": [
    "hourtophash(\"May 02 06\")"
   ]
  }
 ],
 "metadata": {
  "kernelspec": {
   "display_name": "Python 3",
   "language": "python",
   "name": "python3"
  },
  "language_info": {
   "codemirror_mode": {
    "name": "ipython",
    "version": 3
   },
   "file_extension": ".py",
   "mimetype": "text/x-python",
   "name": "python",
   "nbconvert_exporter": "python",
   "pygments_lexer": "ipython3",
   "version": "3.7.4"
  }
 },
 "nbformat": 4,
 "nbformat_minor": 2
}
