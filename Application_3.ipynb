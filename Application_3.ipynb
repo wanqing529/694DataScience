{
 "cells": [
  {
   "cell_type": "code",
   "execution_count": 5,
   "metadata": {},
   "outputs": [
    {
     "name": "stdout",
     "output_type": "stream",
     "text": [
      "Requirement already satisfied: pymongo in f:\\python\\lib\\site-packages (3.10.1)\n"
     ]
    }
   ],
   "source": [
    "!pip install pymongo\n",
    "import pymongo\n",
    "import json"
   ]
  },
  {
   "cell_type": "code",
   "execution_count": 6,
   "metadata": {},
   "outputs": [],
   "source": [
    "myclient = pymongo.MongoClient(\"mongodb://localhost:27017/\")\n",
    "mydb = myclient[\"text\"]\n",
    "mycol = mydb[\"textinformation\"]"
   ]
  },
  {
   "cell_type": "code",
   "execution_count": 7,
   "metadata": {},
   "outputs": [],
   "source": [
    "with open(\"C:/Users/Administrator/Desktop/database final/test-out-NFL\", \"r\") as file:\n",
    "    for line in file:\n",
    "        try:\n",
    "            data = json.loads(line)\n",
    "            for key in data.keys():\n",
    "                if key=='created_at':\n",
    "                    data[key]=data[key][11:13]\n",
    "            createTime = data[\"created_at\"]\n",
    "            \n",
    "            TweetText = data[\"text\"]\n",
    "            list1 = TweetText.split(\" \")\n",
    "            dict1 ={}\n",
    "            for element in list1:\n",
    "                if element not in dict1:\n",
    "                    dict1[element] = 1\n",
    "                else:\n",
    "                    dict1[element] += 1\n",
    "            label = 'would' in dict1.keys()\n",
    "            if label:\n",
    "                Status = \"exist\"\n",
    "            else:\n",
    "                Status = \"not exist\"\n",
    "            \n",
    "            mycol.insert_one({\"CreateTime\":createTime,\n",
    "                              \"status\":Status})\n",
    "        except:\n",
    "            continue"
   ]
  },
  {
   "cell_type": "code",
   "execution_count": 14,
   "metadata": {},
   "outputs": [
    {
     "ename": "SyntaxError",
     "evalue": "invalid syntax (<ipython-input-14-bf01d3a96ffe>, line 2)",
     "output_type": "error",
     "traceback": [
      "\u001b[1;36m  File \u001b[1;32m\"<ipython-input-14-bf01d3a96ffe>\"\u001b[1;36m, line \u001b[1;32m2\u001b[0m\n\u001b[1;33m    function() { emit(this.CreateTime,1); },\u001b[0m\n\u001b[1;37m               ^\u001b[0m\n\u001b[1;31mSyntaxError\u001b[0m\u001b[1;31m:\u001b[0m invalid syntax\n"
     ]
    }
   ],
   "source": [
    ">db.textinformation.mapReduce( \n",
    "   function() { emit(this.CreateTime,1); }, \n",
    "   function(key, values) {return Array.sum(values)}, \n",
    "      {  \n",
    "         query:{status:\"exist\"},  \n",
    "         out:\"word_total\" \n",
    "      }\n",
    ")"
   ]
  },
  {
   "cell_type": "code",
   "execution_count": null,
   "metadata": {},
   "outputs": [],
   "source": []
  }
 ],
 "metadata": {
  "kernelspec": {
   "display_name": "Python 3",
   "language": "python",
   "name": "python3"
  },
  "language_info": {
   "codemirror_mode": {
    "name": "ipython",
    "version": 3
   },
   "file_extension": ".py",
   "mimetype": "text/x-python",
   "name": "python",
   "nbconvert_exporter": "python",
   "pygments_lexer": "ipython3",
   "version": "3.7.3"
  }
 },
 "nbformat": 4,
 "nbformat_minor": 2
}
